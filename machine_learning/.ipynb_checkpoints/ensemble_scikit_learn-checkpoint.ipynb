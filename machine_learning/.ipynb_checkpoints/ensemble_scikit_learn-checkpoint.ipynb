{
 "cells": [
  {
   "cell_type": "markdown",
   "metadata": {},
   "source": [
    "# ensemble"
   ]
  },
  {
   "cell_type": "code",
   "execution_count": 1,
   "metadata": {
    "collapsed": true
   },
   "outputs": [],
   "source": [
    "import numpy as np\n",
    "from sklearn.model_selection import StratifiedKFold,train_test_split\n",
    "from sklearn.metrics import classification_report\n",
    "from sklearn.linear_model import LogisticRegression\n",
    "from sklearn.ensemble import ExtraTreesClassifier, RandomForestClassifier, AdaBoostClassifier, GradientBoostingClassifier\n",
    "from sklearn.datasets import load_iris\n",
    "import xgboost as xgb"
   ]
  },
  {
   "cell_type": "markdown",
   "metadata": {},
   "source": [
    "### load data"
   ]
  },
  {
   "cell_type": "code",
   "execution_count": 2,
   "metadata": {
    "collapsed": true
   },
   "outputs": [],
   "source": [
    "iris = load_iris()\n",
    "data = iris.data\n",
    "label = iris.target"
   ]
  },
  {
   "cell_type": "code",
   "execution_count": 3,
   "metadata": {},
   "outputs": [],
   "source": [
    "x_train, x_test, y_train, y_test = train_test_split(data, label, test_size=0.4)"
   ]
  },
  {
   "cell_type": "code",
   "execution_count": 4,
   "metadata": {
    "collapsed": true
   },
   "outputs": [],
   "source": [
    "np.random.seed(2018)\n",
    "n_folds = 5\n",
    "skf = StratifiedKFold(n_splits=n_folds, shuffle=True, random_state=2018)"
   ]
  },
  {
   "cell_type": "code",
   "execution_count": 5,
   "metadata": {
    "collapsed": true
   },
   "outputs": [],
   "source": [
    "clfs = [\n",
    "    RandomForestClassifier(n_estimators=100, max_features=\"log2\", max_depth=10, min_samples_leaf=1, bootstrap=True, n_jobs=-1, random_state=1),\n",
    "    ExtraTreesClassifier(n_estimators=100, criterion=\"gini\", max_features=\"log2\", max_depth=10, min_samples_split=2, min_samples_leaf=1,bootstrap=True, n_jobs=-1, random_state=1),\n",
    "    GradientBoostingClassifier(learning_rate=0.05),\n",
    "    AdaBoostClassifier(n_estimators=200)\n",
    "]"
   ]
  },
  {
   "cell_type": "code",
   "execution_count": 6,
   "metadata": {
    "collapsed": true
   },
   "outputs": [],
   "source": [
    "dataset_blend_train = np.zeros((x_train.shape[0], len(clfs)))\n",
    "dataset_blend_test = np.zeros((x_test.shape[0], len(clfs)))"
   ]
  },
  {
   "cell_type": "code",
   "execution_count": 7,
   "metadata": {
    "collapsed": true
   },
   "outputs": [],
   "source": [
    "for i, clf in enumerate(clfs):\n",
    "    dataset_blend_test_j = np.zeros((x_test.shape[0], n_folds))\n",
    "    for j,(train_index, test_index) in enumerate(skf.split(x_train, y_train)):\n",
    "        x_t = x_train[train_index]\n",
    "        y_t = y_train[train_index]\n",
    "        clf.fit(x_t, y_t)\n",
    "        dataset_blend_train[test_index, i] = clf.predict(x_train[test_index])\n",
    "        dataset_blend_test_j[:, j] = clf.predict(x_test)\n",
    "    dataset_blend_test[:, i] = dataset_blend_test_j.sum(axis=1) // (n_folds//2 + 1)"
   ]
  },
  {
   "cell_type": "markdown",
   "metadata": {},
   "source": [
    "### L2. XBD"
   ]
  },
  {
   "cell_type": "code",
   "execution_count": 8,
   "metadata": {
    "collapsed": true
   },
   "outputs": [],
   "source": [
    "def cross_validate_xgb(params, x_train, y_train, x_test, y_test, kf, verbose=True,\n",
    "                      verbose_eval=50, num_boost_round=4000, use_rank=True):\n",
    "    train_pred = np.zeros((x_train.shape[0]))\n",
    "    test_pred = np.zeros((x_test.shape[0]))\n",
    "    dataset_blend_test_j = np.zeros((x_test.shape[0], n_folds))\n",
    "    for i, (train_index, test_index) in enumerate(skf.split(x_train, y_train)):\n",
    "        x_train_kf, x_val_kf = x_train[train_index], x_train[test_index]\n",
    "        y_train_kf, y_val_kf = y_train[train_index], y_train[test_index]\n",
    "        d_train_kf = xgb.DMatrix(x_train_kf, y_train_kf)\n",
    "        d_val_kf = xgb.DMatrix(x_val_kf, y_val_kf)\n",
    "        d_test = xgb.DMatrix(x_test, y_test)\n",
    "        \n",
    "        bst = xgb.train(params, d_train_kf, num_boost_round=num_boost_round)\n",
    "        train_pred[test_index] = bst.predict(d_val_kf, ntree_limit=bst.best_ntree_limit)\n",
    "        dataset_blend_test_j[:, i] = bst.predict(d_test)\n",
    "        \n",
    "    test_pred = dataset_blend_test_j.sum(axis=1) // (n_folds //2 + 1)\n",
    "    if verbose:\n",
    "        print('xgb train:{}'.format(classification_report(y_train, train_pred)))\n",
    "        print('xgb test:{}'.format(classification_report(y_test, test_pred)))\n",
    "    return train_pred, test_pred"
   ]
  },
  {
   "cell_type": "code",
   "execution_count": 9,
   "metadata": {},
   "outputs": [],
   "source": [
    "xgb_params = {\n",
    "    \"objective\" :  'multi:softmax',\n",
    "    \"eta\": 0.1,\n",
    "    \"max_depth\": 5,\n",
    "    \"min_child_weight\": 10,\n",
    "    \"gamma\": 0.70,\n",
    "    \"subsample\": 0.76,\n",
    "    \"colsample_bytree\": 0.95,\n",
    "    \"nthread\": 6,\n",
    "    \"seed\": 0,\n",
    "    'silent': 1,\n",
    "    'num_class': 3,\n",
    "}\n",
    "\n",
    "d_train = xgb.DMatrix(dataset_blend_train, y_train)\n",
    "d_test = xgb.DMatrix(dataset_blend_test, y_test)\n",
    "\n",
    "bst = xgb.train(xgb_params, d_train, num_boost_round=10)\n",
    "preds = bst.predict(d_test)"
   ]
  },
  {
   "cell_type": "code",
   "execution_count": 10,
   "metadata": {},
   "outputs": [
    {
     "name": "stdout",
     "output_type": "stream",
     "text": [
      "             precision    recall  f1-score   support\n",
      "\n",
      "          0       1.00      1.00      1.00        14\n",
      "          1       1.00      0.91      0.95        23\n",
      "          2       0.92      1.00      0.96        23\n",
      "\n",
      "avg / total       0.97      0.97      0.97        60\n",
      "\n"
     ]
    }
   ],
   "source": [
    "print(classification_report(y_test, preds))"
   ]
  },
  {
   "cell_type": "markdown",
   "metadata": {},
   "source": [
    "### Logistic Regression"
   ]
  },
  {
   "cell_type": "code",
   "execution_count": 12,
   "metadata": {
    "collapsed": true
   },
   "outputs": [],
   "source": [
    "clf = LogisticRegression()\n",
    "clf.fit(dataset_blend_train, y_train)  \n",
    "prediction = clf.predict(dataset_blend_test)"
   ]
  },
  {
   "cell_type": "code",
   "execution_count": 13,
   "metadata": {
    "scrolled": true
   },
   "outputs": [
    {
     "name": "stdout",
     "output_type": "stream",
     "text": [
      "             precision    recall  f1-score   support\n",
      "\n",
      "          0       1.00      1.00      1.00        14\n",
      "          1       1.00      0.91      0.95        23\n",
      "          2       0.92      1.00      0.96        23\n",
      "\n",
      "avg / total       0.97      0.97      0.97        60\n",
      "\n"
     ]
    }
   ],
   "source": [
    "print(classification_report(y_test, prediction))"
   ]
  }
 ],
 "metadata": {
  "kernelspec": {
   "display_name": "Python 3",
   "language": "python",
   "name": "python3"
  },
  "language_info": {
   "codemirror_mode": {
    "name": "ipython",
    "version": 3
   },
   "file_extension": ".py",
   "mimetype": "text/x-python",
   "name": "python",
   "nbconvert_exporter": "python",
   "pygments_lexer": "ipython3",
   "version": "3.6.3"
  }
 },
 "nbformat": 4,
 "nbformat_minor": 2
}
