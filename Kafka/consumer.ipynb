{
 "cells": [
  {
   "cell_type": "code",
   "execution_count": 1,
   "metadata": {
    "collapsed": true
   },
   "outputs": [],
   "source": [
    "import kafka\n",
    "from kafka import KafkaConsumer, TopicPartition"
   ]
  },
  {
   "cell_type": "code",
   "execution_count": 2,
   "metadata": {},
   "outputs": [],
   "source": [
    "simple_consumer = KafkaConsumer('cloty', bootstrap_servers='192.168.9.5:9092', group_id='cloty_kafka')"
   ]
  },
  {
   "cell_type": "code",
   "execution_count": null,
   "metadata": {
    "scrolled": false
   },
   "outputs": [
    {
     "name": "stdout",
     "output_type": "stream",
     "text": [
      "ConsumerRecord(topic='cloty', partition=0, offset=12, timestamp=1531798009220, timestamp_type=0, key=None, value=b'123', checksum=None, serialized_key_size=-1, serialized_value_size=3)\n",
      "ConsumerRecord(topic='cloty', partition=0, offset=13, timestamp=1531798012539, timestamp_type=0, key=None, value=b'2131231', checksum=None, serialized_key_size=-1, serialized_value_size=7)\n",
      "ConsumerRecord(topic='cloty', partition=0, offset=14, timestamp=1531798013713, timestamp_type=0, key=None, value=b'', checksum=None, serialized_key_size=-1, serialized_value_size=0)\n",
      "ConsumerRecord(topic='cloty', partition=0, offset=15, timestamp=1531798013924, timestamp_type=0, key=None, value=b'', checksum=None, serialized_key_size=-1, serialized_value_size=0)\n",
      "ConsumerRecord(topic='cloty', partition=0, offset=16, timestamp=1531798014297, timestamp_type=0, key=None, value=b'', checksum=None, serialized_key_size=-1, serialized_value_size=0)\n",
      "ConsumerRecord(topic='cloty', partition=0, offset=17, timestamp=1531798026199, timestamp_type=0, key=None, value=b'1231', checksum=None, serialized_key_size=-1, serialized_value_size=4)\n",
      "ConsumerRecord(topic='cloty', partition=0, offset=18, timestamp=1531798027192, timestamp_type=0, key=None, value=b'11111', checksum=None, serialized_key_size=-1, serialized_value_size=5)\n"
     ]
    }
   ],
   "source": [
    "for msg in simple_consumer:\n",
    "#     print(\"\\r\", msg, end=\"\")\n",
    "    print(msg)"
   ]
  },
  {
   "cell_type": "code",
   "execution_count": 4,
   "metadata": {},
   "outputs": [
    {
     "data": {
      "text/plain": [
       "{'_flush_time': 1528879920317,\n",
       " '_track_id': -399561883,\n",
       " 'distinct_id': '63698144681cbaaaed5d355cc15db7c6',\n",
       " 'extractor': {'c': 15432131,\n",
       "  'e': 'data01.huazhen.sa',\n",
       "  'f': '(dev=fd02,ino=6449071848)',\n",
       "  'n': 'access_log.2018061316',\n",
       "  'o': 10838414,\n",
       "  's': 15432131},\n",
       " 'lib': {'$app_version': '2.2.6',\n",
       "  '$lib': 'Android',\n",
       "  '$lib_detail': 'java.util.concurrent.ThreadPoolExecutor$Worker##run##ThreadPoolExecutor.java##587',\n",
       "  '$lib_method': 'code',\n",
       "  '$lib_version': '1.10.0'},\n",
       " 'map_id': '63698144681cbaaaed5d355cc15db7c6',\n",
       " 'project': 'Huazhen',\n",
       " 'project_id': 15,\n",
       " 'properties': {'firstReferer': 'vivo', 'registerChannel': 'vivo'},\n",
       " 'recv_time': 1528879920659,\n",
       " 'time': 1528879920659,\n",
       " 'type': 'profile_set',\n",
       " 'user_id': -3406103115042625349}"
      ]
     },
     "execution_count": 4,
     "metadata": {},
     "output_type": "execute_result"
    }
   ],
   "source": [
    "{'_track_id': -399561883, 'time': 1528879920659, 'type': 'profile_set', 'properties': {'firstReferer': 'vivo', 'registerChannel': 'vivo'}, 'distinct_id': '63698144681cbaaaed5d355cc15db7c6', 'lib': {'$lib': 'Android', '$lib_version': '1.10.0', '$app_version': '2.2.6', '$lib_method': 'code', '$lib_detail': 'java.util.concurrent.ThreadPoolExecutor$Worker##run##ThreadPoolExecutor.java##587'}, '_flush_time': 1528879920317, 'map_id': '63698144681cbaaaed5d355cc15db7c6', 'user_id': -3406103115042625349, 'recv_time': 1528879920659, 'extractor': {'f': '(dev=fd02,ino=6449071848)', 'o': 10838414, 'n': 'access_log.2018061316', 's': 15432131, 'c': 15432131, 'e': 'data01.huazhen.sa'}, 'project_id': 15, 'project': 'Huazhen'}"
   ]
  }
 ],
 "metadata": {
  "kernelspec": {
   "display_name": "Python 3",
   "language": "python",
   "name": "python3"
  },
  "language_info": {
   "codemirror_mode": {
    "name": "ipython",
    "version": 3
   },
   "file_extension": ".py",
   "mimetype": "text/x-python",
   "name": "python",
   "nbconvert_exporter": "python",
   "pygments_lexer": "ipython3",
   "version": "3.6.3"
  }
 },
 "nbformat": 4,
 "nbformat_minor": 2
}
